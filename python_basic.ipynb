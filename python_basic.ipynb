{
  "nbformat": 4,
  "nbformat_minor": 0,
  "metadata": {
    "colab": {
      "provenance": []
    },
    "kernelspec": {
      "name": "python3",
      "display_name": "Python 3"
    },
    "language_info": {
      "name": "python"
    }
  },
  "cells": [
    {
      "cell_type": "code",
      "execution_count": null,
      "metadata": {
        "id": "YtH87MaX0Trc"
      },
      "outputs": [],
      "source": []
    },
    {
      "cell_type": "markdown",
      "source": [
        "# Topic-1 (Variables & Data Types)"
      ],
      "metadata": {
        "id": "llLKK-Sp0Uea"
      }
    },
    {
      "cell_type": "code",
      "source": [
        "x = 10        # integer\n",
        "y = 3.14      # float\n",
        "name = \"Rahul\"  # string\n",
        "is_active = True  # boolean\n",
        "\n",
        "print(x, y, name, is_active)"
      ],
      "metadata": {
        "colab": {
          "base_uri": "https://localhost:8080/"
        },
        "id": "_yeemVO20jcZ",
        "outputId": "ac8a4b56-9393-4575-84ba-42df1b7db6e1"
      },
      "execution_count": 1,
      "outputs": [
        {
          "output_type": "stream",
          "name": "stdout",
          "text": [
            "10 3.14 Rahul True\n"
          ]
        }
      ]
    },
    {
      "cell_type": "code",
      "source": [
        "print(type(is_active))"
      ],
      "metadata": {
        "colab": {
          "base_uri": "https://localhost:8080/"
        },
        "id": "qb7xmxOGR1ov",
        "outputId": "5b16d8c2-4148-41c5-d81f-2f5cd8c2a08d"
      },
      "execution_count": 5,
      "outputs": [
        {
          "output_type": "stream",
          "name": "stdout",
          "text": [
            "<class 'bool'>\n"
          ]
        }
      ]
    },
    {
      "cell_type": "code",
      "source": [
        "roll_no = 101       # int\n",
        "percentage = 85.6   # float\n",
        "student_name = \"Deepali\"   # string\n",
        "passed = True       # bool"
      ],
      "metadata": {
        "id": "W_yoGuS_0mPo"
      },
      "execution_count": null,
      "outputs": []
    },
    {
      "cell_type": "markdown",
      "source": [
        "# Operators"
      ],
      "metadata": {
        "id": "bV2gNInS0qUb"
      }
    },
    {
      "cell_type": "code",
      "source": [
        "#Arithmetic Operators\n",
        "a = 9\n",
        "b = 2\n",
        "print(\"a+b =\", a+b)\n",
        "print(\"a-b =\", a-b)\n",
        "print(\"a*b =\", a*b)\n",
        "print(\"a/b =\", a/b)\n",
        "print(\"a//b =\", a//b)\n",
        "print(\"a%b =\", a%b)\n",
        "print(\"a**b =\", a**b)\n"
      ],
      "metadata": {
        "colab": {
          "base_uri": "https://localhost:8080/"
        },
        "id": "B8MU2kvh0uwY",
        "outputId": "710107f3-fe87-4f2b-fd3c-ce0103a09b11"
      },
      "execution_count": 6,
      "outputs": [
        {
          "output_type": "stream",
          "name": "stdout",
          "text": [
            "a+b = 11\n",
            "a-b = 7\n",
            "a*b = 18\n",
            "a/b = 4.5\n",
            "a//b = 4\n",
            "a%b = 1\n",
            "a**b = 81\n"
          ]
        }
      ]
    },
    {
      "cell_type": "code",
      "source": [
        "#Assignment Operators\n",
        "x = 10\n",
        "x += 5   # x = 10+5\n",
        "print(x) # 15\n"
      ],
      "metadata": {
        "colab": {
          "base_uri": "https://localhost:8080/"
        },
        "id": "Qy7H8P8Z0z3g",
        "outputId": "aef11667-4161-4e7d-9fa4-97fa503326ac"
      },
      "execution_count": 7,
      "outputs": [
        {
          "output_type": "stream",
          "name": "stdout",
          "text": [
            "15\n"
          ]
        }
      ]
    },
    {
      "cell_type": "code",
      "source": [
        "#Comparison Operators\n",
        "print(5 == 5)  # True\n",
        "print(5 < 3)   # False"
      ],
      "metadata": {
        "colab": {
          "base_uri": "https://localhost:8080/"
        },
        "id": "TfKwf2pc098Q",
        "outputId": "a673f57d-ef45-4ca2-9fec-3eff7e580fb7"
      },
      "execution_count": 8,
      "outputs": [
        {
          "output_type": "stream",
          "name": "stdout",
          "text": [
            "True\n",
            "False\n"
          ]
        }
      ]
    },
    {
      "cell_type": "code",
      "source": [
        "#Logical Operators [AND OR NOT]\n",
        "x = 7\n",
        "print(x > 5 and x < 10)  # True\n",
        "print(x > 10 or x == 7)  # True\n",
        "print(not(x == 7))       # False\n"
      ],
      "metadata": {
        "colab": {
          "base_uri": "https://localhost:8080/"
        },
        "id": "lW2tfUmM1BE5",
        "outputId": "bbedd636-a1bd-4e51-c760-d2b68e19e57f"
      },
      "execution_count": 9,
      "outputs": [
        {
          "output_type": "stream",
          "name": "stdout",
          "text": [
            "True\n",
            "True\n",
            "False\n"
          ]
        }
      ]
    },
    {
      "cell_type": "code",
      "source": [
        "#Type Casting\n",
        "x = \"100\"      # string\n",
        "y = int(x)     # string → int\n",
        "z = float(x)   # string → float\n",
        "\n",
        "print(y + 10)   # 110\n",
        "print(z + 0.5)  # 100.5\n"
      ],
      "metadata": {
        "colab": {
          "base_uri": "https://localhost:8080/"
        },
        "id": "62ogZdIa1PPx",
        "outputId": "5ef35f0e-02e3-4769-bbef-a39cf3c755a7"
      },
      "execution_count": 10,
      "outputs": [
        {
          "output_type": "stream",
          "name": "stdout",
          "text": [
            "110\n",
            "100.5\n"
          ]
        }
      ]
    },
    {
      "cell_type": "code",
      "source": [
        "#User Input\n",
        "name = input(\"Enter your name: \")\n",
        "print(\"Hello,\", name)"
      ],
      "metadata": {
        "colab": {
          "base_uri": "https://localhost:8080/"
        },
        "id": "dNqlV-Wj1ZtD",
        "outputId": "59a1c0ea-a222-4fe4-b769-a0d4ecb09aa3"
      },
      "execution_count": 11,
      "outputs": [
        {
          "output_type": "stream",
          "name": "stdout",
          "text": [
            "Enter your name: Sandeep\n",
            "Hello, Sandeep\n"
          ]
        }
      ]
    },
    {
      "cell_type": "markdown",
      "source": [
        "# String"
      ],
      "metadata": {
        "id": "C3MTcPOU1d9r"
      }
    },
    {
      "cell_type": "code",
      "source": [
        "#String Indexing\n",
        "word = \"Python\"\n",
        "print(word[0])   # P\n",
        "print(word[1])   # y\n",
        "print(word[-1])  # n (last character)\n"
      ],
      "metadata": {
        "colab": {
          "base_uri": "https://localhost:8080/"
        },
        "id": "GrLTz_Fv16zn",
        "outputId": "0fcaf76b-bc26-48f9-d24b-5090df55b5c2"
      },
      "execution_count": 12,
      "outputs": [
        {
          "output_type": "stream",
          "name": "stdout",
          "text": [
            "P\n",
            "y\n",
            "n\n"
          ]
        }
      ]
    },
    {
      "cell_type": "code",
      "source": [
        "#String Slicing\n",
        "word = \"Python\"\n",
        "print(word[0:4])   # Pyth (0 se 3 tak)\n",
        "print(word[:3])    # Pyt (default start = 0)\n",
        "print(word[2:])    # thon (2 se end tak)\n",
        "print(word[-3:])   # hon (last 3 characters)\n",
        "print(word[:-3])"
      ],
      "metadata": {
        "colab": {
          "base_uri": "https://localhost:8080/"
        },
        "id": "LMefO8eS1_zB",
        "outputId": "4a2cc520-da59-4129-998f-f4694a42f2ed"
      },
      "execution_count": 13,
      "outputs": [
        {
          "output_type": "stream",
          "name": "stdout",
          "text": [
            "Pyth\n",
            "Pyt\n",
            "thon\n",
            "hon\n"
          ]
        }
      ]
    },
    {
      "cell_type": "code",
      "source": [
        "#Common String Methods\n",
        "text = \"  hello world  \"\n",
        "print(text.upper())      # HELLO WORLD\n",
        "print(text.lower())      # hello world\n",
        "print(text.replace(\"world\", \"Python\"))  # hello Python\n",
        "print(text.split())      # ['hello', 'world']\n",
        "print(text.strip())      # hello world\n"
      ],
      "metadata": {
        "colab": {
          "base_uri": "https://localhost:8080/"
        },
        "id": "K5lgYIm_3Alw",
        "outputId": "79a5949f-83e7-48b2-dcbc-97f120326288"
      },
      "execution_count": 14,
      "outputs": [
        {
          "output_type": "stream",
          "name": "stdout",
          "text": [
            "  HELLO WORLD  \n",
            "  hello world  \n",
            "  hello Python  \n",
            "['hello', 'world']\n",
            "hello world\n"
          ]
        }
      ]
    },
    {
      "cell_type": "code",
      "source": [
        "#f-string\n",
        "name = \"Rahul\"\n",
        "age = 22\n",
        "print(f\"My name is {name} and I am {age} years old.\")"
      ],
      "metadata": {
        "colab": {
          "base_uri": "https://localhost:8080/"
        },
        "id": "kPDbltXM3U1o",
        "outputId": "cd9b58fa-56f6-447f-ca79-eedfb64eba43"
      },
      "execution_count": 15,
      "outputs": [
        {
          "output_type": "stream",
          "name": "stdout",
          "text": [
            "My name is Rahul and I am 22 years old.\n"
          ]
        }
      ]
    },
    {
      "cell_type": "markdown",
      "source": [
        "# List"
      ],
      "metadata": {
        "id": "Juxk12ef3xUI"
      }
    },
    {
      "cell_type": "code",
      "source": [
        "#list and method\n",
        "numbers = [5, 2, 9, 1]\n",
        "\n",
        "numbers.append(7)     # [5,2,9,1,7]\n",
        "numbers.insert(1, 3)  # [5,2,3,9,1,7]\n",
        "numbers.remove(9)     # [5,2,3,1,7]\n",
        "numbers.sort()        # [1,2,3,5,7]\n",
        "numbers.reverse()     # [7,5,3,2,1]\n",
        "print(numbers)\n"
      ],
      "metadata": {
        "colab": {
          "base_uri": "https://localhost:8080/"
        },
        "id": "xmpPYSKx31u3",
        "outputId": "3c5ec828-fe3c-492e-f012-6c61933323af"
      },
      "execution_count": 21,
      "outputs": [
        {
          "output_type": "stream",
          "name": "stdout",
          "text": [
            "[7, 5, 3, 2, 1]\n"
          ]
        }
      ]
    },
    {
      "cell_type": "code",
      "source": [
        "#Slicing in Lists\n",
        "fruits = [\"apple\", \"banana\", \"cherry\", \"mango\", \"orange\"]\n",
        "print(fruits[1:4])   # ['banana', 'cherry', 'mango']\n",
        "print(fruits[:3])    # ['apple', 'banana', 'cherry']\n",
        "print(fruits[-3:])   # ['cherry', 'mango', 'orange']\n"
      ],
      "metadata": {
        "colab": {
          "base_uri": "https://localhost:8080/"
        },
        "id": "HzwIFAjx4HfQ",
        "outputId": "cd3648af-ccaa-42a5-cd6b-de0eab3d7d19"
      },
      "execution_count": 22,
      "outputs": [
        {
          "output_type": "stream",
          "name": "stdout",
          "text": [
            "['banana', 'cherry', 'mango']\n",
            "['apple', 'banana', 'cherry']\n",
            "['cherry', 'mango', 'orange']\n"
          ]
        }
      ]
    },
    {
      "cell_type": "code",
      "source": [
        "fruits = [\"apple\", \"banana\", \"cherry\", \"mango\", \"orange\"]\n",
        "#access 0\n",
        "#3:4\n",
        "#-3:0"
      ],
      "metadata": {
        "id": "ncfT8lj1XYHr"
      },
      "execution_count": null,
      "outputs": []
    },
    {
      "cell_type": "code",
      "source": [
        "#Nested Lists\n",
        "matrix = [[1,2,3], [4,5,6], [7,8,9]]\n",
        "print(matrix[0])      # [1,2,3]\n",
        "print(matrix[0][1])   # 2 (row 0, column 1)"
      ],
      "metadata": {
        "colab": {
          "base_uri": "https://localhost:8080/"
        },
        "id": "trksyrwW4TbR",
        "outputId": "a1484a42-5729-441f-bad9-579da3c1aa1e"
      },
      "execution_count": 23,
      "outputs": [
        {
          "output_type": "stream",
          "name": "stdout",
          "text": [
            "[1, 2, 3]\n",
            "2\n"
          ]
        }
      ]
    },
    {
      "cell_type": "markdown",
      "source": [
        "# Tuples"
      ],
      "metadata": {
        "id": "duyFSDNF43JB"
      }
    },
    {
      "cell_type": "code",
      "source": [
        "#tuples\n",
        "numbers = (10, 20, 30, 40)\n",
        "print(numbers)\n",
        "print(numbers[1])    # 20"
      ],
      "metadata": {
        "colab": {
          "base_uri": "https://localhost:8080/"
        },
        "id": "r1Lxv3gI5iJ6",
        "outputId": "6f4a0417-2681-45ee-a7ab-b3d0b9a88562"
      },
      "execution_count": 24,
      "outputs": [
        {
          "output_type": "stream",
          "name": "stdout",
          "text": [
            "(10, 20, 30, 40)\n",
            "20\n"
          ]
        }
      ]
    },
    {
      "cell_type": "code",
      "source": [
        "#tuple method\n",
        "t = (1, 2, 3, 2, 4,2)\n",
        "print(t.count(2))   # 2\n",
        "print(t.index(3))   # 2\n"
      ],
      "metadata": {
        "colab": {
          "base_uri": "https://localhost:8080/"
        },
        "id": "aZ1Ob_4A5m2v",
        "outputId": "b2e5f29f-b674-49f7-c23a-1e78509c320e"
      },
      "execution_count": 26,
      "outputs": [
        {
          "output_type": "stream",
          "name": "stdout",
          "text": [
            "3\n",
            "2\n"
          ]
        }
      ]
    },
    {
      "cell_type": "code",
      "source": [
        "#append tuple\n",
        "t = (5, 2, 9, 1)\n",
        "temp = list(t)       # tuple → list\n",
        "temp.append(7)\n",
        "temp.sort()\n",
        "t = tuple(temp)      # list → tuple\n",
        "print(t)"
      ],
      "metadata": {
        "colab": {
          "base_uri": "https://localhost:8080/"
        },
        "id": "IIwNLPw263-w",
        "outputId": "b5a43c0d-e176-4305-c739-b69d88742d16"
      },
      "execution_count": 27,
      "outputs": [
        {
          "output_type": "stream",
          "name": "stdout",
          "text": [
            "(1, 2, 5, 7, 9)\n"
          ]
        }
      ]
    },
    {
      "cell_type": "markdown",
      "source": [
        "# SET"
      ],
      "metadata": {
        "id": "meQqSNzQ7N7x"
      }
    },
    {
      "cell_type": "code",
      "source": [
        "fruits = {\"apple\", \"banana\", \"apple\", \"mango\"}\n",
        "print(fruits)   # {'apple', 'banana', 'mango'}\n"
      ],
      "metadata": {
        "colab": {
          "base_uri": "https://localhost:8080/"
        },
        "id": "cy1wzIMp7RK_",
        "outputId": "d83904d4-ce87-483c-ee13-a21921b878e7"
      },
      "execution_count": 29,
      "outputs": [
        {
          "output_type": "stream",
          "name": "stdout",
          "text": [
            "{'banana', 'mango', 'apple'}\n"
          ]
        }
      ]
    },
    {
      "cell_type": "code",
      "source": [
        "#union and interaction\n",
        "a = {1, 2, 3}\n",
        "b = {3, 4, 5}\n",
        "print(a.union(b))   # {1, 2, 3, 4, 5}\n",
        "print(a.intersection(b))   # {3}\n",
        "print(a.difference(b))   # {1, 2}\n",
        "print(b.difference(a))   # {4, 5}\n"
      ],
      "metadata": {
        "colab": {
          "base_uri": "https://localhost:8080/"
        },
        "id": "Kw_mDmko7UH3",
        "outputId": "67641d02-fd2e-403c-fe7d-8dc30adeea40"
      },
      "execution_count": 30,
      "outputs": [
        {
          "output_type": "stream",
          "name": "stdout",
          "text": [
            "{1, 2, 3, 4, 5}\n",
            "{3}\n",
            "{1, 2}\n",
            "{4, 5}\n"
          ]
        }
      ]
    },
    {
      "cell_type": "markdown",
      "source": [
        "# Dict"
      ],
      "metadata": {
        "id": "ciaJdeVt8TsZ"
      }
    },
    {
      "cell_type": "code",
      "source": [
        "student = {\n",
        "    \"name\": \"Rahul\",\n",
        "    \"age\": 21,\n",
        "    \"course\": \"Python\"\n",
        "}\n",
        "print(student[\"name\"])   # Rahul\n",
        "print(student[\"age\"])    # 21\n"
      ],
      "metadata": {
        "colab": {
          "base_uri": "https://localhost:8080/"
        },
        "id": "cVa8LBzb8Vh4",
        "outputId": "1977225a-5343-4765-f37c-379c6746bcae"
      },
      "execution_count": 31,
      "outputs": [
        {
          "output_type": "stream",
          "name": "stdout",
          "text": [
            "Rahul\n",
            "21\n"
          ]
        }
      ]
    },
    {
      "cell_type": "code",
      "source": [
        "#add item\n",
        "student[\"grade\"] = \"A\"     # New key add\n",
        "print(student)\n",
        "\n",
        "#update\n",
        "student[\"age\"] = 22    # Age update\n",
        "print(student)\n",
        "\n",
        "#delete\n",
        "student.pop(\"age\")\n",
        "print(student)\n",
        "\n",
        "#del student[\"course\"]\n",
        "#student.clear()"
      ],
      "metadata": {
        "colab": {
          "base_uri": "https://localhost:8080/"
        },
        "id": "NXnBUOSS8l3o",
        "outputId": "58a1f926-1ed8-43bd-b87a-73bcb2bdbb34"
      },
      "execution_count": 32,
      "outputs": [
        {
          "output_type": "stream",
          "name": "stdout",
          "text": [
            "{'name': 'Rahul', 'age': 21, 'course': 'Python', 'grade': 'A'}\n",
            "{'name': 'Rahul', 'age': 22, 'course': 'Python', 'grade': 'A'}\n",
            "{'name': 'Rahul', 'course': 'Python', 'grade': 'A'}\n"
          ]
        }
      ]
    },
    {
      "cell_type": "code",
      "source": [
        "#Looping Over Dictionary\n",
        "\n",
        "for key in student:\n",
        "    print(key)   # sirf keys\n",
        "\n",
        "\n",
        "for value in student.values():\n",
        "    print(value)\n",
        "\n",
        "\n",
        "for key, value in student.items():\n",
        "    print(key, \":\", value)\n"
      ],
      "metadata": {
        "colab": {
          "base_uri": "https://localhost:8080/"
        },
        "id": "dfdKip1B88BH",
        "outputId": "9083e914-9ba0-41b4-b70c-86efe5f55489"
      },
      "execution_count": 33,
      "outputs": [
        {
          "output_type": "stream",
          "name": "stdout",
          "text": [
            "name\n",
            "course\n",
            "grade\n",
            "Rahul\n",
            "Python\n",
            "A\n",
            "name : Rahul\n",
            "course : Python\n",
            "grade : A\n"
          ]
        }
      ]
    },
    {
      "cell_type": "code",
      "source": [
        "#dict mapping alternative to switch\n",
        "def switch_example(day):\n",
        "    switcher = {\n",
        "        1: \"Monday\",\n",
        "        2: \"Tuesday\",\n",
        "        3: \"Wednesday\"\n",
        "    }\n",
        "    return switcher.get(day, \"Other day\")\n",
        "\n",
        "print(switch_example(3))   # Wednesday\n",
        "print(switch_example(5))   # Other day\n"
      ],
      "metadata": {
        "colab": {
          "base_uri": "https://localhost:8080/"
        },
        "id": "e4IB2Sg1_5Kw",
        "outputId": "00d2053e-af49-4f1a-f4f3-eb0f224400ff"
      },
      "execution_count": 34,
      "outputs": [
        {
          "output_type": "stream",
          "name": "stdout",
          "text": [
            "Wednesday\n",
            "Other day\n"
          ]
        }
      ]
    },
    {
      "cell_type": "markdown",
      "source": [
        "# Conditional statement"
      ],
      "metadata": {
        "id": "fSr0x83H-qNs"
      }
    },
    {
      "cell_type": "code",
      "source": [
        "age = 17\n",
        "if age >= 18:\n",
        "    print(\"You can vote!\")\n",
        "else:\n",
        "    print(\"no vote\")"
      ],
      "metadata": {
        "colab": {
          "base_uri": "https://localhost:8080/"
        },
        "id": "4V68N_xA-tUv",
        "outputId": "599fe3c0-a3d0-4ef9-a307-5b9490b48af2"
      },
      "execution_count": 37,
      "outputs": [
        {
          "output_type": "stream",
          "name": "stdout",
          "text": [
            "no vote\n"
          ]
        }
      ]
    },
    {
      "cell_type": "code",
      "source": [
        "marks = 76\n",
        "if marks >= 50:\n",
        "    print(\"Pass\")\n",
        "else:\n",
        "    print(\"Fail\")\n"
      ],
      "metadata": {
        "colab": {
          "base_uri": "https://localhost:8080/"
        },
        "id": "QWctC25m-4C4",
        "outputId": "fc8d8fa1-cde0-473c-d2d4-a25bc5caa385"
      },
      "execution_count": 39,
      "outputs": [
        {
          "output_type": "stream",
          "name": "stdout",
          "text": [
            "Pass\n"
          ]
        }
      ]
    },
    {
      "cell_type": "code",
      "source": [
        "marks = 75\n",
        "\n",
        "if marks >= 90:\n",
        "    print(\"Grade A\")\n",
        "elif marks >= 75:\n",
        "    print(\"Grade B\")\n",
        "elif marks >= 50:\n",
        "    print(\"Grade C\")\n",
        "else:\n",
        "    print(\"Fail\")\n"
      ],
      "metadata": {
        "colab": {
          "base_uri": "https://localhost:8080/"
        },
        "id": "rKkkGckG-6gX",
        "outputId": "3dc4c6e7-52e8-4afb-d80d-fdcfc6864689"
      },
      "execution_count": 40,
      "outputs": [
        {
          "output_type": "stream",
          "name": "stdout",
          "text": [
            "Grade B\n"
          ]
        }
      ]
    },
    {
      "cell_type": "code",
      "source": [
        "#login check\n",
        "username = input(\"Enter username: \")\n",
        "password = input(\"Enter password: \")\n",
        "\n",
        "if username == \"admin\" and password == \"1234\":\n",
        "    print(\"Login Successful\")\n",
        "else:\n",
        "    print(\"Invalid Credentials\")\n",
        "\n"
      ],
      "metadata": {
        "colab": {
          "base_uri": "https://localhost:8080/"
        },
        "id": "DfAz3wpn--7X",
        "outputId": "e34168f0-b322-4006-8c7e-a36a9693a608"
      },
      "execution_count": 42,
      "outputs": [
        {
          "output_type": "stream",
          "name": "stdout",
          "text": [
            "Enter username: admin\n",
            "Enter password: 900\n",
            "Invalid Credentials\n"
          ]
        }
      ]
    },
    {
      "cell_type": "code",
      "source": [
        "#grading system\n",
        "marks = int(input(\"Enter your marks: \"))\n",
        "\n",
        "if marks >= 90:\n",
        "    print(\"Grade A\")\n",
        "elif marks >= 75:\n",
        "    print(\"Grade B\")\n",
        "elif marks >= 50:\n",
        "    print(\"Grade C\")\n",
        "else:\n",
        "    print(\"Fail\")"
      ],
      "metadata": {
        "id": "YzeSbMAh_G2_"
      },
      "execution_count": null,
      "outputs": []
    },
    {
      "cell_type": "markdown",
      "source": [
        "# Loop"
      ],
      "metadata": {
        "id": "Trkr4yi2AUDg"
      }
    },
    {
      "cell_type": "code",
      "source": [
        "#for\n",
        "for i in range(5):\n",
        "    print(i)\n",
        "\n",
        "\n",
        "nums = [10, 20, 30, 40, 50]\n",
        "\n",
        "for n in nums:\n",
        "    print(n)\n"
      ],
      "metadata": {
        "colab": {
          "base_uri": "https://localhost:8080/"
        },
        "id": "MalU1MsJAWj_",
        "outputId": "c9db31f9-46e8-4d8b-b248-e32295d72e97"
      },
      "execution_count": 43,
      "outputs": [
        {
          "output_type": "stream",
          "name": "stdout",
          "text": [
            "0\n",
            "1\n",
            "2\n",
            "3\n",
            "4\n",
            "10\n",
            "20\n",
            "30\n",
            "40\n",
            "50\n"
          ]
        }
      ]
    },
    {
      "cell_type": "code",
      "source": [
        "#break\n",
        "for i in range(1, 10):\n",
        "    if i == 5:\n",
        "        break\n",
        "    print(i)\n"
      ],
      "metadata": {
        "colab": {
          "base_uri": "https://localhost:8080/"
        },
        "id": "i9NqS2HtCRuJ",
        "outputId": "2ae9dbe0-30df-4dd1-f760-c89155c495f7"
      },
      "execution_count": 44,
      "outputs": [
        {
          "output_type": "stream",
          "name": "stdout",
          "text": [
            "1\n",
            "2\n",
            "3\n",
            "4\n"
          ]
        }
      ]
    },
    {
      "cell_type": "code",
      "source": [
        "#continue\n",
        "for i in range(1, 6):\n",
        "    if i == 3:\n",
        "        continue\n",
        "    print(i)\n"
      ],
      "metadata": {
        "colab": {
          "base_uri": "https://localhost:8080/"
        },
        "id": "mh15oQ0HCTFI",
        "outputId": "4213cba6-2e5a-4c47-8d19-9e5ec4373908"
      },
      "execution_count": 45,
      "outputs": [
        {
          "output_type": "stream",
          "name": "stdout",
          "text": [
            "1\n",
            "2\n",
            "4\n",
            "5\n"
          ]
        }
      ]
    },
    {
      "cell_type": "code",
      "source": [
        "#pass\n",
        "for i in range(5):\n",
        "    if i == 2:\n",
        "        pass\n",
        "    print(i)\n"
      ],
      "metadata": {
        "colab": {
          "base_uri": "https://localhost:8080/"
        },
        "id": "cEtgkcDqCWyP",
        "outputId": "c20001c6-3e3d-4ba2-8d32-7f294b43a7a9"
      },
      "execution_count": 46,
      "outputs": [
        {
          "output_type": "stream",
          "name": "stdout",
          "text": [
            "0\n",
            "1\n",
            "2\n",
            "3\n",
            "4\n"
          ]
        }
      ]
    },
    {
      "cell_type": "code",
      "source": [
        "#While\n",
        "count = 5\n",
        "\n",
        "while count > 0:\n",
        "    print(\"Countdown:\", count)\n",
        "    count -= 1\n",
        "\n",
        "print(\"Time’s up! 🚀\")\n"
      ],
      "metadata": {
        "colab": {
          "base_uri": "https://localhost:8080/"
        },
        "id": "PZLyrMCXCeKR",
        "outputId": "7df54aee-0e40-4b92-c3d7-40e20c954720"
      },
      "execution_count": 47,
      "outputs": [
        {
          "output_type": "stream",
          "name": "stdout",
          "text": [
            "Countdown: 5\n",
            "Countdown: 4\n",
            "Countdown: 3\n",
            "Countdown: 2\n",
            "Countdown: 1\n",
            "Time’s up! 🚀\n"
          ]
        }
      ]
    },
    {
      "cell_type": "markdown",
      "source": [
        "# Function"
      ],
      "metadata": {
        "id": "VghsTpyXDI9C"
      }
    },
    {
      "cell_type": "code",
      "source": [
        "def greet():\n",
        "    print(\"Hello! Welcome to Python.\")\n",
        "\n",
        "# function call\n",
        "greet()\n"
      ],
      "metadata": {
        "colab": {
          "base_uri": "https://localhost:8080/"
        },
        "id": "RQpTl3SRDLLB",
        "outputId": "17e483e0-a03b-4813-cb75-1f875276efa5"
      },
      "execution_count": 48,
      "outputs": [
        {
          "output_type": "stream",
          "name": "stdout",
          "text": [
            "Hello! Welcome to Python.\n"
          ]
        }
      ]
    },
    {
      "cell_type": "code",
      "source": [
        "def add(a, b):\n",
        "    return a + b\n",
        "\n",
        "result = add(7, 7)\n",
        "print(\"Sum:\", result)\n"
      ],
      "metadata": {
        "colab": {
          "base_uri": "https://localhost:8080/"
        },
        "id": "x3h0t3nKDMkg",
        "outputId": "593e11ff-3062-413b-f39c-ae47db54c218"
      },
      "execution_count": 50,
      "outputs": [
        {
          "output_type": "stream",
          "name": "stdout",
          "text": [
            "Sum: 14\n"
          ]
        }
      ]
    },
    {
      "cell_type": "code",
      "source": [
        "def greet(name=\"guest\"):\n",
        "    print(\"Hello\", name)\n",
        "\n",
        "greet(\"Rahul\")   # custom\n",
        "greet()          # default\n"
      ],
      "metadata": {
        "colab": {
          "base_uri": "https://localhost:8080/"
        },
        "id": "oO8z12h2DN7n",
        "outputId": "752c3bc7-463d-49fd-f3c2-6adb1038eb87"
      },
      "execution_count": 51,
      "outputs": [
        {
          "output_type": "stream",
          "name": "stdout",
          "text": [
            "Hello Rahul\n",
            "Hello guest\n"
          ]
        }
      ]
    },
    {
      "cell_type": "code",
      "source": [
        "#local and global\n",
        "x = 10   # global variable\n",
        "\n",
        "def demo():\n",
        "    x = 5   # local variable\n",
        "    print(\"Inside function:\", x)\n",
        "\n",
        "demo()\n",
        "print(\"Outside function:\", x)\n"
      ],
      "metadata": {
        "colab": {
          "base_uri": "https://localhost:8080/"
        },
        "id": "d0yTp2VZDoyh",
        "outputId": "e142a768-2101-4282-c114-8263f7afafc3"
      },
      "execution_count": 52,
      "outputs": [
        {
          "output_type": "stream",
          "name": "stdout",
          "text": [
            "Inside function: 5\n",
            "Outside function: 10\n"
          ]
        }
      ]
    },
    {
      "cell_type": "markdown",
      "source": [
        "# File handling"
      ],
      "metadata": {
        "id": "P_v5KqvVJfhf"
      }
    },
    {
      "cell_type": "code",
      "source": [
        "#open\n",
        "f = open(\"filename.txt\", \"mode\")"
      ],
      "metadata": {
        "id": "yYUnnieuJkOy"
      },
      "execution_count": null,
      "outputs": []
    },
    {
      "cell_type": "code",
      "source": [
        "#read\n",
        "f = open(\"data.txt\", \"r\")\n",
        "content = f.read()\n",
        "print(content)\n",
        "f.close()\n"
      ],
      "metadata": {
        "id": "8Jyy4Rw5JoO3"
      },
      "execution_count": null,
      "outputs": []
    },
    {
      "cell_type": "code",
      "source": [
        "#write\n",
        "f = open(\"data.txt\", \"w\")\n",
        "f.write(\"Hello Students!\\n\")\n",
        "f.close()\n"
      ],
      "metadata": {
        "id": "l-PjX1zuJsyI"
      },
      "execution_count": null,
      "outputs": []
    },
    {
      "cell_type": "code",
      "source": [
        "#append\n",
        "f = open(\"data.txt\", \"a\")\n",
        "f.write(\"New line added.\\n\")\n",
        "f.close()\n"
      ],
      "metadata": {
        "id": "nkLvQamDJv3X"
      },
      "execution_count": null,
      "outputs": []
    },
    {
      "cell_type": "code",
      "source": [
        "#with - automatic close\n",
        "with open(\"data.txt\", \"r\") as f:\n",
        "    print(f.read())\n"
      ],
      "metadata": {
        "id": "R-gSruOxKLZQ"
      },
      "execution_count": null,
      "outputs": []
    },
    {
      "cell_type": "code",
      "source": [
        "#Example\n",
        "\n",
        "with open(\"marks.txt\", \"w\") as f:\n",
        "    f.write(\"Rahul: 85\\n\")\n",
        "    f.write(\"Sneha: 92\\n\")\n",
        "    f.write(\"Amit: 76\\n\")\n",
        "\n",
        "\n",
        "with open(\"marks.txt\", \"r\") as f:\n",
        "    print(f.read())\n"
      ],
      "metadata": {
        "id": "lRxG43o9KR9X"
      },
      "execution_count": null,
      "outputs": []
    },
    {
      "cell_type": "markdown",
      "source": [
        "# Error handling"
      ],
      "metadata": {
        "id": "QKt14Um5K5Uo"
      }
    },
    {
      "cell_type": "code",
      "source": [
        "try:\n",
        "    num = int(input(\"Enter a number: \"))\n",
        "    print(\"Number:\", num)\n",
        "except ValueError:\n",
        "    print(\"Please enter only numbers!\")\n"
      ],
      "metadata": {
        "colab": {
          "base_uri": "https://localhost:8080/"
        },
        "id": "1DsDKKamK7ZI",
        "outputId": "7105cd95-2aa5-4412-fc54-0a332a5e9efa"
      },
      "execution_count": 53,
      "outputs": [
        {
          "output_type": "stream",
          "name": "stdout",
          "text": [
            "Enter a number: sandeep\n",
            "Please enter only numbers!\n"
          ]
        }
      ]
    },
    {
      "cell_type": "code",
      "source": [
        "try:\n",
        "    a = 10 / 5\n",
        "except ZeroDivisionError:\n",
        "    print(\"Cannot divide by zero!\")\n",
        "finally:\n",
        "    print(\"Program finished\")\n"
      ],
      "metadata": {
        "colab": {
          "base_uri": "https://localhost:8080/"
        },
        "id": "_inEdUS7K8cv",
        "outputId": "b4f56398-5892-47f6-e63f-d518e449371e"
      },
      "execution_count": 55,
      "outputs": [
        {
          "output_type": "stream",
          "name": "stdout",
          "text": [
            "Program finished\n"
          ]
        }
      ]
    },
    {
      "cell_type": "code",
      "source": [
        "#Custom Error Messages\n",
        "try:\n",
        "    age = int(input(\"Enter age: \"))\n",
        "    if age < 0:\n",
        "        raise ValueError(\"Age cannot be negative!\")\n",
        "    print(\"Your age is:\", age)\n",
        "except ValueError as e:\n",
        "    print(e)\n"
      ],
      "metadata": {
        "colab": {
          "base_uri": "https://localhost:8080/"
        },
        "id": "KvQqktwzLAb3",
        "outputId": "60611c56-1c4d-425c-f1c0-d725df459d8b"
      },
      "execution_count": 56,
      "outputs": [
        {
          "output_type": "stream",
          "name": "stdout",
          "text": [
            "Enter age: -6\n",
            "Age cannot be negative!\n"
          ]
        }
      ]
    },
    {
      "cell_type": "markdown",
      "source": [
        "# Module & lib"
      ],
      "metadata": {
        "id": "AOY8NFbhLWGI"
      }
    },
    {
      "cell_type": "code",
      "source": [
        "#module\n",
        "import math\n",
        "print(math.sqrt(25))   # 5.0\n"
      ],
      "metadata": {
        "colab": {
          "base_uri": "https://localhost:8080/"
        },
        "id": "jw-NniLMLFeo",
        "outputId": "6bbe080e-9634-4114-a2e5-187eb66fb99c"
      },
      "execution_count": 57,
      "outputs": [
        {
          "output_type": "stream",
          "name": "stdout",
          "text": [
            "5.0\n"
          ]
        }
      ]
    },
    {
      "cell_type": "code",
      "source": [
        "#lib\n",
        "import numpy as np\n",
        "arr = np.array([1,2,3])\n",
        "print(arr * 2)   # [2 4 6]\n"
      ],
      "metadata": {
        "colab": {
          "base_uri": "https://localhost:8080/"
        },
        "id": "0CtFIgHvL6cf",
        "outputId": "f318d84c-ed62-46f8-ab58-b4dcf815546b"
      },
      "execution_count": 58,
      "outputs": [
        {
          "output_type": "stream",
          "name": "stdout",
          "text": [
            "[2 4 6]\n"
          ]
        }
      ]
    },
    {
      "cell_type": "code",
      "source": [
        "#create module\n",
        "def add(a, b): return a + b\n",
        "def sub(a, b): return a - b\n",
        "def mul(a, b): return a * b\n",
        "def div(a, b): return a / b if b != 0 else \"❌ Cannot divide by 0\"\n"
      ],
      "metadata": {
        "id": "vHoF7VWMMubi"
      },
      "execution_count": 59,
      "outputs": []
    },
    {
      "cell_type": "code",
      "source": [
        "#use module\n",
        "import calculator\n",
        "\n",
        "print(\"Add:\", calculator.add(10, 5))\n",
        "print(\"Sub:\", calculator.sub(10, 5))\n",
        "print(\"Mul:\", calculator.mul(10, 5))\n",
        "print(\"Div:\", calculator.div(10, 0))\n"
      ],
      "metadata": {
        "colab": {
          "base_uri": "https://localhost:8080/",
          "height": 383
        },
        "id": "d6JAABeVMxgQ",
        "outputId": "4c50aaac-938a-4204-dfa8-26d96d808f43"
      },
      "execution_count": 60,
      "outputs": [
        {
          "output_type": "error",
          "ename": "ModuleNotFoundError",
          "evalue": "No module named 'calculator'",
          "traceback": [
            "\u001b[0;31m---------------------------------------------------------------------------\u001b[0m",
            "\u001b[0;31mModuleNotFoundError\u001b[0m                       Traceback (most recent call last)",
            "\u001b[0;32m/tmp/ipython-input-2430223314.py\u001b[0m in \u001b[0;36m<cell line: 0>\u001b[0;34m()\u001b[0m\n\u001b[1;32m      1\u001b[0m \u001b[0;31m#use module\u001b[0m\u001b[0;34m\u001b[0m\u001b[0;34m\u001b[0m\u001b[0m\n\u001b[0;32m----> 2\u001b[0;31m \u001b[0;32mimport\u001b[0m \u001b[0mcalculator\u001b[0m\u001b[0;34m\u001b[0m\u001b[0;34m\u001b[0m\u001b[0m\n\u001b[0m\u001b[1;32m      3\u001b[0m \u001b[0;34m\u001b[0m\u001b[0m\n\u001b[1;32m      4\u001b[0m \u001b[0mprint\u001b[0m\u001b[0;34m(\u001b[0m\u001b[0;34m\"Add:\"\u001b[0m\u001b[0;34m,\u001b[0m \u001b[0mcalculator\u001b[0m\u001b[0;34m.\u001b[0m\u001b[0madd\u001b[0m\u001b[0;34m(\u001b[0m\u001b[0;36m10\u001b[0m\u001b[0;34m,\u001b[0m \u001b[0;36m5\u001b[0m\u001b[0;34m)\u001b[0m\u001b[0;34m)\u001b[0m\u001b[0;34m\u001b[0m\u001b[0;34m\u001b[0m\u001b[0m\n\u001b[1;32m      5\u001b[0m \u001b[0mprint\u001b[0m\u001b[0;34m(\u001b[0m\u001b[0;34m\"Sub:\"\u001b[0m\u001b[0;34m,\u001b[0m \u001b[0mcalculator\u001b[0m\u001b[0;34m.\u001b[0m\u001b[0msub\u001b[0m\u001b[0;34m(\u001b[0m\u001b[0;36m10\u001b[0m\u001b[0;34m,\u001b[0m \u001b[0;36m5\u001b[0m\u001b[0;34m)\u001b[0m\u001b[0;34m)\u001b[0m\u001b[0;34m\u001b[0m\u001b[0;34m\u001b[0m\u001b[0m\n",
            "\u001b[0;31mModuleNotFoundError\u001b[0m: No module named 'calculator'",
            "",
            "\u001b[0;31m---------------------------------------------------------------------------\u001b[0;32m\nNOTE: If your import is failing due to a missing package, you can\nmanually install dependencies using either !pip or !apt.\n\nTo view examples of installing some common dependencies, click the\n\"Open Examples\" button below.\n\u001b[0;31m---------------------------------------------------------------------------\u001b[0m\n"
          ],
          "errorDetails": {
            "actions": [
              {
                "action": "open_url",
                "actionText": "Open Examples",
                "url": "/notebooks/snippets/importing_libraries.ipynb"
              }
            ]
          }
        }
      ]
    },
    {
      "cell_type": "markdown",
      "source": [
        "# OOPS"
      ],
      "metadata": {
        "id": "VTPvsLsAN7Np"
      }
    },
    {
      "cell_type": "code",
      "source": [
        "class Car:\n",
        "    pass\n",
        "\n",
        "my_car = Car()\n",
        "print(type(my_car))\n"
      ],
      "metadata": {
        "colab": {
          "base_uri": "https://localhost:8080/"
        },
        "id": "Qbu3fRpMN9KP",
        "outputId": "d239c104-0c4a-478c-e506-c65d6876a98d"
      },
      "execution_count": 62,
      "outputs": [
        {
          "output_type": "stream",
          "name": "stdout",
          "text": [
            "<class '__main__.Car'>\n"
          ]
        }
      ]
    },
    {
      "cell_type": "code",
      "source": [
        "#attribute\n",
        "class Car:\n",
        "    def __init__(self, brand, color):\n",
        "        self.brand = brand      # attribute\n",
        "        self.color = color      # attribute\n",
        "\n",
        "    def drive(self):            # method\n",
        "        print(f\"{self.brand} is driving...\")\n",
        "\n",
        "my_car = Car(\"Tesla\", \"Red\")\n",
        "\n",
        "print(my_car.brand)     # Tesla\n",
        "print(my_car.color)     # Red\n",
        "\n",
        "my_car.drive()          # Tesla is driving...\n"
      ],
      "metadata": {
        "colab": {
          "base_uri": "https://localhost:8080/"
        },
        "id": "-0fsgD1ZOzJA",
        "outputId": "6c160f91-bd8c-4a90-ad59-e0f05c8cfd83"
      },
      "execution_count": 63,
      "outputs": [
        {
          "output_type": "stream",
          "name": "stdout",
          "text": [
            "Tesla\n",
            "Red\n",
            "Tesla is driving...\n"
          ]
        }
      ]
    },
    {
      "cell_type": "code",
      "source": [
        "#constructor\n",
        "class Student:\n",
        "    def __init__(self, name, marks):\n",
        "        self.name = name\n",
        "        self.marks = \"90\"\n",
        "\n",
        "    def show(self):\n",
        "        print(f\"Name: {self.name}, Marks: {self.marks}\")\n",
        "\n",
        "s1 = Student(\"Rahul\", 85)   # constructor call\n",
        "s1.show()\n"
      ],
      "metadata": {
        "colab": {
          "base_uri": "https://localhost:8080/"
        },
        "id": "mgJ15PqiPXGB",
        "outputId": "0d8760f5-8c00-4c82-df15-3a334b6bb8cd"
      },
      "execution_count": 65,
      "outputs": [
        {
          "output_type": "stream",
          "name": "stdout",
          "text": [
            "Name: Rahul, Marks: 90\n"
          ]
        }
      ]
    }
  ]
}